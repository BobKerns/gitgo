{
 "cells": [
  {
   "cell_type": "code",
   "execution_count": 1,
   "metadata": {},
   "outputs": [
    {
     "name": "stdout",
     "output_type": "stream",
     "text": [
      "Adding path: /Users/rwk/p/gitgo\n"
     ]
    }
   ],
   "source": [
    "import profile_default\n",
    "from gitgo.frontend import Frontend\n",
    "import gitgo"
   ]
  },
  {
   "cell_type": "code",
   "execution_count": 2,
   "metadata": {},
   "outputs": [],
   "source": [
    "fe = gitgo.frontend"
   ]
  },
  {
   "cell_type": "code",
   "execution_count": 5,
   "metadata": {},
   "outputs": [
    {
     "name": "stdout",
     "output_type": "stream",
     "text": [
      "Help on package gitgo:\n",
      "\n",
      "NAME\n",
      "    gitgo\n",
      "\n",
      "PACKAGE CONTENTS\n",
      "    backend (package)\n",
      "    branch (package)\n",
      "    frontend (package)\n",
      "    index (package)\n",
      "    log (package)\n",
      "    lowlevel (package)\n",
      "    object (package)\n",
      "    objectstore (package)\n",
      "    ref (package)\n",
      "    repo (package)\n",
      "    worktree (package)\n",
      "\n",
      "DATA\n",
      "    __all__ = ['backend', 'frontend', 'branch', 'index', 'log', 'object', ...\n",
      "\n",
      "FILE\n",
      "    /Users/rwk/p/gitgo/gitgo/__init__.py\n",
      "\n",
      "\n"
     ]
    }
   ],
   "source": [
    "help(gitgo)"
   ]
  },
  {
   "cell_type": "code",
   "execution_count": 4,
   "metadata": {},
   "outputs": [
    {
     "data": {
      "text/plain": [
       "gitgo.frontend.frontend.Frontend"
      ]
     },
     "execution_count": 4,
     "metadata": {},
     "output_type": "execute_result"
    }
   ],
   "source": [
    "gitgo.frontend.Frontend"
   ]
  },
  {
   "cell_type": "code",
   "execution_count": null,
   "metadata": {},
   "outputs": [],
   "source": []
  }
 ],
 "metadata": {
  "kernelspec": {
   "display_name": "Python 3",
   "language": "python",
   "name": "python3"
  },
  "language_info": {
   "codemirror_mode": {
    "name": "ipython",
    "version": 3
   },
   "file_extension": ".py",
   "mimetype": "text/x-python",
   "name": "python",
   "nbconvert_exporter": "python",
   "pygments_lexer": "ipython3",
   "version": "3.11.3"
  },
  "orig_nbformat": 4
 },
 "nbformat": 4,
 "nbformat_minor": 2
}
